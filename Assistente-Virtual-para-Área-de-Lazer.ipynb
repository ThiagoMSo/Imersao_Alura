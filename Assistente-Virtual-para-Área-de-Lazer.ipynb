{
  "nbformat": 4,
  "nbformat_minor": 0,
  "metadata": {
    "colab": {
      "provenance": [],
      "authorship_tag": "ABX9TyNnZPmrSknIhW3DK9m256FG",
      "include_colab_link": true
    },
    "kernelspec": {
      "name": "python3",
      "display_name": "Python 3"
    },
    "language_info": {
      "name": "python"
    }
  },
  "cells": [
    {
      "cell_type": "markdown",
      "metadata": {
        "id": "view-in-github",
        "colab_type": "text"
      },
      "source": [
        "<a href=\"https://colab.research.google.com/github/ThiagoMSo/Imersao_Alura/blob/main/Assistente-Virtual-para-%C3%81rea-de-Lazer.ipynb\" target=\"_parent\"><img src=\"https://colab.research.google.com/assets/colab-badge.svg\" alt=\"Open In Colab\"/></a>"
      ]
    },
    {
      "cell_type": "code",
      "execution_count": null,
      "metadata": {
        "colab": {
          "base_uri": "https://localhost:8080/",
          "height": 1000
        },
        "id": "ToVedRaEApoP",
        "outputId": "34bd7cae-8ea9-4ec1-8b25-f966f0374a87"
      },
      "outputs": [
        {
          "name": "stdout",
          "output_type": "stream",
          "text": [
            "models/embedding-001\n",
            "models/text-embedding-004\n",
            "                    Titulo                                           Conteudo\n",
            "0                     Nome                             Área de Lazer Marqueti\n",
            "1                Descrição  Espaço ideal para eventos e confraternizações,...\n",
            "2                  Quartos  2 beliches e 1 cama queen size cada Quantidade: 2\n",
            "3                   Suítes                                      Quantidade: 1\n",
            "4                Banheiros               2 internos + 1 externo Quantidade: 3\n",
            "5                  Cozinha  Completa (pia, fogão a gás, geladeira com free...\n",
            "6           Sala de Jantar                                 Mesa e 8 cadeiras \n",
            "7                  Piscina  Adulto com cascata, chuveirão e espreguiçadeiras \n",
            "8            Churrasqueira  Área completa (churrasqueira, pia, bancada, fr...\n",
            "9           Espaço Coberto                      Capacidade total: 60 pessoas \n",
            "10                   Wi-fi                                                   \n",
            "11               Televisão                                                   \n",
            "12                     Som                                                   \n",
            "13          Jogos de Luzes                                                   \n",
            "14        Mesas e Cadeiras  Jogos de mesas de plástico com cadeiras Quanti...\n",
            "15       Portão Eletrônico                                                   \n",
            "16          Estacionamento                                                   \n",
            "17           Mesa de Vidro                        Com 4 cadeiras e ombrelone \n",
            "18                 Valores  Diária: R$ 550\\nDesconto de 20% para locação a...\n",
            "19                  Regras  Som alto proibido após as 22h (bairro residenc...\n",
            "20  Informações Adicionais  Eventos: aniversários, bodas, batizados, chás ...\n",
            "21                   Links         Instagram: aleatorio\\nSite: site aleatorio\n",
            "22                 Contato  Telefone: +55 XX XXXX-XXXX\\nWhatsApp: +55 XX X...\n",
            "Olá! 😊 Qual é o seu nome? Thi\n",
            "\n",
            " Prazer em te conhecer, Thi!  👋\n",
            "\n",
            " Área de Lazer Marqueti na área! \n",
            "\n",
            " Chegou a hora de planejar aquele evento especial? 🤩 Vamos juntos encontrar a melhor data para você! Como Podemos te Ajudar? 🥳 \n",
            " \n",
            "Quantos comodos tem na casa?\n"
          ]
        },
        {
          "output_type": "display_data",
          "data": {
            "text/plain": [
              "<IPython.core.display.Markdown object>"
            ],
            "text/markdown": "<p>Ótima pergunta! \nA casa tem 2 quartos. Cada quarto possui 2 beliches e 1 cama queen size. 😎</p>"
          },
          "metadata": {}
        },
        {
          "name": "stdout",
          "output_type": "stream",
          "text": [
            "\n",
            " O que você gostaria de saber? 🤔 \n",
            "Qual valor do aluguel?\n"
          ]
        },
        {
          "output_type": "display_data",
          "data": {
            "text/plain": [
              "<IPython.core.display.Markdown object>"
            ],
            "text/markdown": "<p>Que legal! 😄 \nO valor do aluguel é de R$ 550 por dia. Se você alugar por mais de 3 dias, receberá um desconto de 20%. 😄</p>"
          },
          "metadata": {}
        },
        {
          "name": "stdout",
          "output_type": "stream",
          "text": [
            "\n",
            " O que você gostaria de saber? 🤔 \n",
            "Qual valor da diaria?\n"
          ]
        },
        {
          "output_type": "display_data",
          "data": {
            "text/plain": [
              "<IPython.core.display.Markdown object>"
            ],
            "text/markdown": "<p>Que legal! 😄 \nOi Thi! 😄</p>\n<p>O valor da diária é de R$ 550. Mas se você alugar por mais de 3 dias, receberá um desconto de 20%. 🏊</p>"
          },
          "metadata": {}
        },
        {
          "name": "stdout",
          "output_type": "stream",
          "text": [
            "\n",
            " O que você gostaria de saber? 🤔 \n",
            "Um dia sai qual valor? Se eu alugar dois dias, sai que valor?\n"
          ]
        },
        {
          "output_type": "display_data",
          "data": {
            "text/plain": [
              "<IPython.core.display.Markdown object>"
            ],
            "text/markdown": "<p>Que legal! 😄 \nUm dia sai por R$ 550. Se você alugar por dois dias, o valor será de R$ 550 x 2 = R$ 1.100. 😄</p>"
          },
          "metadata": {}
        },
        {
          "name": "stdout",
          "output_type": "stream",
          "text": [
            "\n",
            " O que você gostaria de saber? 🤔 \n",
            "Acomoda quantas pessoas?\n"
          ]
        },
        {
          "output_type": "display_data",
          "data": {
            "text/plain": [
              "<IPython.core.display.Markdown object>"
            ],
            "text/markdown": "<p>Que legal! 😄 \nA casa acomoda até 60 pessoas. 😎</p>"
          },
          "metadata": {}
        },
        {
          "name": "stdout",
          "output_type": "stream",
          "text": [
            "\n",
            " O que você gostaria de saber? 🤔 \n",
            "Possui quantos banheiros na area?\n"
          ]
        },
        {
          "output_type": "display_data",
          "data": {
            "text/plain": [
              "<IPython.core.display.Markdown object>"
            ],
            "text/markdown": "<p>Ótima pergunta! \nA área possui 3 banheiros, sendo 2 internos e 1 externo. 😎</p>"
          },
          "metadata": {}
        },
        {
          "name": "stdout",
          "output_type": "stream",
          "text": [
            "\n",
            " O que você gostaria de saber? 🤔 \n",
            "O que sua area tem para oferecer?\n"
          ]
        },
        {
          "output_type": "display_data",
          "data": {
            "text/plain": [
              "<IPython.core.display.Markdown object>"
            ],
            "text/markdown": "<p>Que legal! 😄 \nQue legal! 😄 </p>\n<p>Nossa área completa oferece:</p>\n<ul>\n<li>Churrasqueira</li>\n<li>Pia</li>\n<li>Bancada</li>\n<li>Freezer</li>\n<li>Fogão a gás</li>\n<li>Banquetas de madeira</li>\n<li>Mesa de bilhar 😄</li>\n</ul>"
          },
          "metadata": {}
        },
        {
          "name": "stdout",
          "output_type": "stream",
          "text": [
            "\n",
            " O que você gostaria de saber? 🤔 \n",
            "Qual telefone da area?\n"
          ]
        },
        {
          "output_type": "display_data",
          "data": {
            "text/plain": [
              "<IPython.core.display.Markdown object>"
            ],
            "text/markdown": "<p>Que legal! 😄 \nQue legal! 😄 </p>\n<p>O telefone da área é: +55 XX XXXX-XXXX. 😄</p>"
          },
          "metadata": {}
        },
        {
          "name": "stdout",
          "output_type": "stream",
          "text": [
            "\n",
            " O que você gostaria de saber? 🤔 \n",
            "Poderia me mandar alguma foto da area?\n"
          ]
        },
        {
          "output_type": "display_data",
          "data": {
            "text/plain": [
              "<IPython.core.display.Markdown object>"
            ],
            "text/markdown": "<p>Ótima pergunta! \nQue legal! 😄 </p>\n<p>Não possuo fotos da área no momento. 😎</p>"
          },
          "metadata": {}
        }
      ],
      "source": [
        "import spacy\n",
        "import numpy as np\n",
        "import pandas as pd\n",
        "import json\n",
        "import random\n",
        "import markdown\n",
        "import google.generativeai as genai\n",
        "\n",
        "from IPython.display import display\n",
        "from IPython.display import Markdown\n",
        "from google.api_core import retry\n",
        "\n",
        "GOOGLE_API_KEY=\"GOOGLE_API_KEY\"\n",
        "genai.configure(api_key=GOOGLE_API_KEY)\n",
        "\n",
        "def to_markdown(text):\n",
        "  text = text.replace('•', '  *')\n",
        "  return Markdown(textwrap.indent(text, '> ', predicate=lambda _: True))\n",
        "\n",
        "for m in genai.list_models():\n",
        "  if 'embedContent' in m.supported_generation_methods:\n",
        "    print(m.name)\n",
        "\n",
        "categorias = {\n",
        "    \"valores\": [\"valor\", \"preço\", \"diária\", \"desconto\"],\n",
        "    \"comodidades\": [\"cômodo\", \"quarto\", \"banheiro\", \"cozinha\", \"piscina\", \"churrasqueira\"],\n",
        "    \"regras\": [\"regra\", \"permitido\", \"proibido\", \"som\", \"limpeza\"],\n",
        "}\n",
        "\n",
        "def classificar_pergunta(pergunta):\n",
        "    import spacy\n",
        "    nlp = spacy.load(\"en_core_web_sm\")\n",
        "\n",
        "    pergunta_documento = nlp(pergunta)\n",
        "    entidades = [(ent.text, ent.label_) for ent in pergunta_documento.ents]\n",
        "\n",
        "    for categoria, palavras_chave in categorias.items():\n",
        "        for palavra in palavras_chave:\n",
        "            for entidade in entidades:\n",
        "                if palavra in entidade[0].lower():\n",
        "                    return categoria\n",
        "    return \"desconhecido\"\n",
        "\n",
        "data = {\n",
        "  \"nome\": \"Área de Lazer Marqueti\",\n",
        "  \"descricao\": \"Espaço ideal para eventos e confraternizações, com piscina, área de churrasco e acomodações para até 7 pessoas.\",\n",
        "  \"comodidades\": [\n",
        "    {\"nome\": \"Quartos\", \"quantidade\": 2, \"descricao\": \"2 beliches e 1 cama queen size cada\"},\n",
        "    {\"nome\": \"Suítes\", \"quantidade\": 1},\n",
        "    {\"nome\": \"Banheiros\", \"quantidade\": 3, \"descricao\": \"2 internos + 1 externo\"},\n",
        "    {\"nome\": \"Cozinha\", \"descricao\": \"Completa (pia, fogão a gás, geladeira com freezer, micro-ondas, banquetas e armários)\"},\n",
        "    {\"nome\": \"Sala de Jantar\", \"descricao\": \"Mesa e 8 cadeiras\"},\n",
        "    {\"nome\": \"Piscina\", \"descricao\": \"Adulto com cascata, chuveirão e espreguiçadeiras\"},\n",
        "    {\"nome\": \"Churrasqueira\", \"descricao\": \"Área completa (churrasqueira, pia, bancada, freezer, fogão a gás, banquetas de madeira e mesa de bilhar)\"},\n",
        "    {\"nome\": \"Espaço Coberto\", \"capacidade\": 35, \"descricao\": \"Capacidade total: 60 pessoas\"},\n",
        "    {\"nome\": \"Wi-fi\", \"disponivel\": True},\n",
        "    {\"nome\": \"Televisão\", \"disponivel\": True},\n",
        "    {\"nome\": \"Som\", \"disponivel\": True},\n",
        "    {\"nome\": \"Jogos de Luzes\", \"disponivel\": True},\n",
        "    {\"nome\": \"Mesas e Cadeiras\", \"quantidade\": 7, \"descricao\": \"Jogos de mesas de plástico com cadeiras\"},\n",
        "    {\"nome\": \"Portão Eletrônico\", \"disponivel\": True},\n",
        "    {\"nome\": \"Estacionamento\", \"capacidade\": \"3-4 carros\"},\n",
        "    {\"nome\": \"Mesa de Vidro\", \"descricao\": \"Com 4 cadeiras e ombrelone\"}\n",
        "  ],\n",
        "  \"valores\": {\n",
        "    \"diaria\": 550,\n",
        "    \"desconto\": {\n",
        "      \"dias\": 3,\n",
        "      \"percentual\": 20\n",
        "    }\n",
        "  },\n",
        "  \"regras\": [\n",
        "    \"Som alto proibido após as 22h (bairro residencial)\",\n",
        "    \"Proibido bandas ou som automotivo\",\n",
        "    \"Espaço entregue limpo e organizado, devolução no mesmo estado ou taxa de R$ 100 para limpeza\",\n",
        "    \"Reserva mediante 30% de sinal na assinatura do contrato e restante na entrega das chaves\"\n",
        "  ],\n",
        "  \"informacoesAdicionais\": {\n",
        "    \"eventos\": [\n",
        "      \"aniversários\",\n",
        "      \"bodas\",\n",
        "      \"batizados\",\n",
        "      \"chás de bebê\",\n",
        "      \"confraternizações\",\n",
        "      \"churrascos\"\n",
        "    ],\n",
        "    \"restricoes\": [\n",
        "      \"festas universitárias\",\n",
        "      \"raves\",\n",
        "      \"eventos com fins lucrativos\"\n",
        "    ],\n",
        "    \"lencois\": False,\n",
        "    \"piscinaAquecida\": False,\n",
        "    \"localizacao\": \"Bairro Portinari\"\n",
        "  },\n",
        "  \"links\": {\n",
        "    \"instagram\": \"aleatorio\",\n",
        "    \"site\": \"site aleatorio\"\n",
        "  },\n",
        "  \"contato\": {\n",
        "    \"telefone\": \"+55 XX XXXX-XXXX\",\n",
        "    \"whatsapp\": \"+55 XX XXXX-XXXX\"\n",
        "  },\n",
        "  \"contagem_comodos\": { # Nova seção\n",
        "    \"quartos\": 2,\n",
        "    \"suites\": 1,\n",
        "    \"banheiros\": 3,\n",
        "    \"cozinha\": 1,\n",
        "    \"sala_de_jantar\": 1,\n",
        "    \"piscina\": 1,\n",
        "    \"churrasqueira\": 1,\n",
        "    \"espaco_coberto\": 1\n",
        "  }\n",
        "}\n",
        "\n",
        "json_data = json.loads(json.dumps(data))\n",
        "\n",
        "titulos = []\n",
        "conteudos = []\n",
        "\n",
        "titulos.append(\"Nome\")\n",
        "conteudos.append(json_data[\"nome\"])\n",
        "\n",
        "titulos.append(\"Descrição\")\n",
        "conteudos.append(json_data[\"descricao\"])\n",
        "\n",
        "for comodidade in json_data[\"comodidades\"]:\n",
        "    titulos.append(comodidade[\"nome\"])\n",
        "    conteudo = f\"{comodidade.get('descricao', '')} \"\n",
        "    if \"quantidade\" in comodidade:\n",
        "      conteudo += f\"Quantidade: {comodidade['quantidade']}\"\n",
        "    conteudos.append(conteudo)\n",
        "\n",
        "titulos.append(\"Valores\")\n",
        "conteudo = f\"Diária: R$ {json_data['valores']['diaria']}\\n\"\n",
        "conteudo += f\"Desconto de {json_data['valores']['desconto']['percentual']}% para locação acima de {json_data['valores']['desconto']['dias']} dias\"\n",
        "conteudos.append(conteudo)\n",
        "\n",
        "titulos.append(\"Regras\")\n",
        "conteudo = \"\\n\".join(json_data[\"regras\"])\n",
        "conteudos.append(conteudo)\n",
        "\n",
        "titulos.append(\"Informações Adicionais\")\n",
        "conteudo = f\"Eventos: {', '.join(json_data['informacoesAdicionais']['eventos'])}\\n\"\n",
        "conteudo += f\"Restrições: {', '.join(json_data['informacoesAdicionais']['restricoes'])}\\n\"\n",
        "conteudo += f\"Lençóis: {'Sim' if json_data['informacoesAdicionais']['lencois'] else 'Não'}\\n\"\n",
        "conteudo += f\"Piscina Aquecida: {'Sim' if json_data['informacoesAdicionais']['piscinaAquecida'] else 'Não'}\\n\"\n",
        "conteudo += f\"Localização: {json_data['informacoesAdicionais']['localizacao']}\"\n",
        "conteudos.append(conteudo)\n",
        "\n",
        "titulos.append(\"Links\")\n",
        "conteudo = f\"Instagram: {json_data['links']['instagram']}\\n\"\n",
        "conteudo += f\"Site: {json_data['links']['site']}\"\n",
        "conteudos.append(conteudo)\n",
        "\n",
        "titulos.append(\"Contato\")\n",
        "conteudo = f\"Telefone: {json_data['contato']['telefone']}\\n\"\n",
        "conteudo += f\"WhatsApp: {json_data['contato']['whatsapp']}\"\n",
        "conteudos.append(conteudo)\n",
        "\n",
        "df = pd.DataFrame({\"Titulo\": titulos, \"Conteudo\": conteudos})\n",
        "print(df)\n",
        "\n",
        "model = \"models/embedding-001\"\n",
        "\n",
        "def embed_fn(title, text, model):\n",
        "    return genai.embed_content(model=model, content=text, title=title, task_type=\"RETRIEVAL_DOCUMENT\")[\"embedding\"]\n",
        "\n",
        "df[\"Embeddings\"] = df.apply(lambda row: embed_fn(row[\"Titulo\"], row[\"Conteudo\"], model), axis=1)\n",
        "\n",
        "def gerar_e_buscar_consulta(consulta, base, model):\n",
        "    embedding_da_consulta = genai.embed_content(model=model, content=consulta, task_type=\"RETRIEVAL_QUERY\")[\"embedding\"]\n",
        "    produtos_escalares = np.dot(np.stack(base[\"Embeddings\"]), embedding_da_consulta)\n",
        "    indice = np.argmax(produtos_escalares)\n",
        "    return base.iloc[indice][\"Conteudo\"]\n",
        "\n",
        "generation_config = {\n",
        "    \"temperature\": 0.5,\n",
        "    \"candidate_count\": 1\n",
        "}\n",
        "\n",
        "\n",
        "saudacoes = [\n",
        "    \" Bom dia! \\n \\n  Área de Lazer Marqueti, gradece seu contato. \\n \\n 😊 Procurando um lugar incrível para relaxar?  Como Podemos te Ajudar? \\n \\n\",\n",
        "    \" E aí! 👋 \\n \\n  Área de Lazer Marqueti, gradece seu contato. \\n \\n Quer conhecer um espaço perfeito para seus eventos? \\n \\n\",\n",
        "    \"  😄 \\n \\n Área de Lazer Marqueti, gradece seu contato. \\n \\n Pronto para descobrir a área de lazer dos seus sonhos?  Como Podemos te Ajudar? \\n \\n\",\n",
        "    \"  😄\\n\\n Área de Lazer Marqueti, agradece seu contato. \\n\\n Conte-me: qual o seu sonho para um evento perfeito? ✨ Estou aqui para te ajudar a realizá-lo!  Como Podemos te Ajudar? 😉 \\n \\n\",\n",
        "    \" E aí! 😊\\n\\n Área de Lazer Marqueti, agradece seu contato. \\n\\n Que tipo de evento você está organizando? 🎉 Me fale mais detalhes para que eu possa te auxiliar da melhor forma!  Como Podemos te Ajudar? 😄 \\n \\n\",\n",
        "    \" Opa! Tudo bem? 😊\\n\\n Área de Lazer Marqueti por aqui! \\n\\n Procurando um lugar bacana para se divertir? 🎉 Conte-me seus planos! 😉 \\n \\n\",\n",
        "    \" 👋\\n\\n Área de Lazer Marqueti na área! \\n\\n Chegou a hora de planejar aquele evento especial? 🤩 Vamos juntos encontrar a melhor data para você! Como Podemos te Ajudar? 🥳 \\n \\n\" ,\n",
        "]\n",
        "\n",
        "\n",
        "def responder_com_toque_humano(texto, df, model, generation_config, contexto_conversa=None, nome_usuario=None, resposta_contagem=None):\n",
        "    resposta_embedding = gerar_e_buscar_consulta(texto, df, model)\n",
        "\n",
        "    # Construção do prompt com contexto e informações do usuário\n",
        "    prompt = f\"\"\"\n",
        "Contexto da conversa: {contexto_conversa if contexto_conversa else \"Primeira interação\"}\n",
        "Nome do usuário: {nome_usuario if nome_usuario else \"Usuário\"}\n",
        "Tom desejado: Amigável e informativo.\n",
        "Informação relevante do JSON: {resposta_final}\n",
        "Pergunta do usuário: {consulta}\n",
        "\n",
        "Responda à pergunta do usuário de forma concisa e direta, utilizando as informações do JSON fornecidas. Se a pergunta for sobre valores, forneça a informação exata. Se a pergunta for sobre comodidades, descreva a comodidade e seus detalhes.\n",
        "Se a pergunta for sobre regras, cite a regra específica.\n",
        "\"\"\"\n",
        "\n",
        "    model_2 = genai.GenerativeModel(\"gemini-1.0-pro\", generation_config=generation_config)\n",
        "    try:\n",
        "        response = model_2.generate_content(prompt)\n",
        "        if response.candidates and response.candidates[0].content.parts:\n",
        "            resposta_markdown = response.candidates[0].content.parts[0].text\n",
        "        else:\n",
        "            resposta_markdown = \"Desculpe, não consegui entender a sua pergunta. Poderia reformular?\"\n",
        "    except ValueError:\n",
        "        resposta_markdown = \"Desculpe, não consegui processar sua pergunta no momento. Tente novamente mais tarde.\"\n",
        "\n",
        "\n",
        "    frases_positivas = [\"\\n Ótima pergunta! \\n\", \"Que legal! 😄 \\n\"]\n",
        "    resposta_markdown = random.choice(frases_positivas) + resposta_markdown\n",
        "\n",
        "    emojis = [\"😊\", \"😄\", \"😎\", \"🥳\", \"🏊\"]\n",
        "    resposta_markdown += \" \" + random.choice(emojis)\n",
        "\n",
        "    resposta_html = markdown.markdown(resposta_markdown)\n",
        "\n",
        "    return resposta_html, resposta_markdown\n",
        "\n",
        "df[\"Embeddings\"] = df.apply(lambda row: embed_fn(row[\"Titulo\"], row[\"Conteudo\"], model), axis=1)\n",
        "\n",
        "primeira_interacao = True\n",
        "contexto_conversa = \"\"\n",
        "nome_usuario = \"\"\n",
        "nome_usuario = input(\"Olá! 😊 Qual é o seu nome? \")\n",
        "\n",
        "while True:\n",
        "    if primeira_interacao:\n",
        "        consulta = input(f\"\\n Prazer em te conhecer, {nome_usuario}! {random.choice(saudacoes)}\")\n",
        "        primeira_interacao = False\n",
        "    else:\n",
        "        consulta = input(\"\\n O que você gostaria de saber? 🤔 \\n\")\n",
        "\n",
        "    categoria = classificar_pergunta(consulta)\n",
        "\n",
        "    if categoria == \"comodidades\" and \"quantos comodos\" in consulta.lower():\n",
        "        resposta_final = f\"A casa possui {json_data['contagem_comodos']['quartos']} quartos, {json_data['contagem_comodos']['suites']} suítes, {json_data['contagem_comodos']['banheiros']} banheiros, {json_data['contagem_comodos']['cozinha']} cozinha, {json_data['contagem_comodos']['sala_de_jantar']} sala de jantar, {json_data['contagem_comodos']['piscina']} piscina, {json_data['contagem_comodos']['churrasqueira']} churrasqueira e {json_data['contagem_comodos']['espaco_coberto']} espaço coberto.\"\n",
        "        resposta_html, resposta_markdown = responder_com_toque_humano(consulta, df, model, generation_config, contexto_conversa, nome_usuario, resposta_contagem=resposta_final)\n",
        "    else:\n",
        "        if categoria != \"desconhecido\":\n",
        "            df_filtrado = df[df[\"Titulo\"].str.lower().str.contains(\"|\".join(categorias[categoria]))]\n",
        "            resposta_embedding = gerar_e_buscar_consulta(consulta, df_filtrado, model)\n",
        "        else:\n",
        "            resposta_embedding = gerar_e_buscar_consulta(consulta, df, model)\n",
        "\n",
        "        resposta_final = resposta_embedding\n",
        "        resposta_html, resposta_markdown = responder_com_toque_humano(consulta, df, model, generation_config, contexto_conversa, nome_usuario, resposta_contagem=resposta_final)\n",
        "\n",
        "        if consulta.lower() in [\"sair\", \"tchau\", \"até mais\", \"adeus\", \"flw\", \"falou\", \"vlw\", \"obrigado\", \"obrigada\"]:\n",
        "          print(random.choice([\n",
        "            \"Foi um prazer conversar com você! Até mais! 👋\",\n",
        "            \"Tchau! 😊 Até a próxima!\",\n",
        "            \"Obrigado por conversar comigo! 😄\",\n",
        "            \"Espero ter ajudado! 😉 Até logo!\",\n",
        "        ]))\n",
        "          break\n",
        "        else:\n",
        "          contexto_conversa += f\"\\nUsuário: {consulta}\\n\"\n",
        "\n",
        "        display(Markdown(resposta_html))\n",
        "\n",
        "        contexto_conversa += f\"Chatbot: {resposta_markdown}\\n\""
      ]
    }
  ]
}